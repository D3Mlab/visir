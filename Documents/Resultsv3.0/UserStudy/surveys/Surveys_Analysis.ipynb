{
 "cells": [
  {
   "cell_type": "code",
   "execution_count": 1,
   "metadata": {},
   "outputs": [],
   "source": [
    "import scikit_posthocs as sp\n",
    "import pandas as pd\n",
    "\n",
    "from scipy.stats.mstats import friedmanchisquare\n",
    "from scipy import stats\n",
    "from statsmodels.stats.multicomp import pairwise_tukeyhsd\n",
    "import numpy as np\n"
   ]
  },
  {
   "cell_type": "code",
   "execution_count": 2,
   "metadata": {},
   "outputs": [
    {
     "name": "stdout",
     "output_type": "stream",
     "text": [
      "               BPS  Baseline   K-Means\n",
      "BPS      -1.000000  0.001202  0.029681\n",
      "Baseline  0.001202 -1.000000  0.008938\n",
      "K-Means   0.029681  0.008938 -1.000000\n"
     ]
    },
    {
     "data": {
      "image/png": "[encoded data removed]",
      "text/plain": [
       "<Figure size 432x288 with 2 Axes>"
      ]
     },
     "metadata": {},
     "output_type": "display_data"
    }
   ],
   "source": [
    "# NASA TLX ANALYSIS\n",
    "f=[52,52,24,28,12,90,66,52,30,48,54,28,24,54,28,76,54,70,26,18,62,62,68,24]\n",
    "k=[46,88,26,36,68,76,56,60,26,76,54,42,52,58,34,64,72,72,26,46,62,74,58,42]\n",
    "b=[62,100,82,76,108,82,66,62,58,68,84,24,36,94,42,80,60,72,78,80,62,86,52,76]\n",
    "\n",
    "\n",
    "x = pd.DataFrame({\"BPS\": f, \n",
    "                  \"K-Means\": k, \n",
    "                  \"Baseline\": b})\n",
    "\n",
    "x = x.melt(var_name='groups', value_name='values')\n",
    "\n",
    "pc = sp.posthoc_wilcoxon(x, val_col='values', group_col='groups', p_adjust = 'holm')\n",
    "\n",
    "heatmap_args = {'linewidths': 0.25, 'linecolor': '0.5', 'clip_on': False, 'square': True, 'cbar_ax_bbox': [0.80, 0.35, 0.04, 0.3]}\n",
    "sp.sign_plot(pc, **heatmap_args)\n",
    "print pc"
   ]
  },
  {
   "cell_type": "code",
   "execution_count": 3,
   "metadata": {},
   "outputs": [
    {
     "data": {
      "text/plain": [
       "FriedmanchisquareResult(statistic=16.113636363636363, pvalue=0.00031693362786854284)"
      ]
     },
     "execution_count": 3,
     "metadata": {},
     "output_type": "execute_result"
    }
   ],
   "source": [
    "# friedmanchisquare test\n",
    "a=np.array([f,k,b])\n",
    "friedmanchisquare(*(a[i, :] for i in range(a.shape[0])))\n"
   ]
  },
  {
   "cell_type": "code",
   "execution_count": 4,
   "metadata": {},
   "outputs": [
    {
     "name": "stdout",
     "output_type": "stream",
     "text": [
      "Ttest_indResult(statistic=-1.5816070876093196, pvalue=0.12059157018947803)\n",
      "Ttest_indResult(statistic=-4.179982530983322, pvalue=0.0001291298377566247)\n",
      "Ttest_indResult(statistic=-2.9174091770175057, pvalue=0.0054430362813744386)\n"
     ]
    }
   ],
   "source": [
    "print stats.ttest_ind(f,k)\n",
    "print stats.ttest_ind(f,b)\n",
    "print stats.ttest_ind(k,b)\n"
   ]
  },
  {
   "cell_type": "code",
   "execution_count": 5,
   "metadata": {},
   "outputs": [
    {
     "name": "stdout",
     "output_type": "stream",
     "text": [
      "Ttest_indResult(statistic=-1.0643041683803833, pvalue=0.292746012740666)\n",
      "Ttest_indResult(statistic=-0.9583148474999099, pvalue=0.3429139790798914)\n",
      "Ttest_indResult(statistic=-0.8720759903632869, pvalue=0.38769615082713704)\n",
      "Ttest_indResult(statistic=1.7595620428995502, pvalue=0.08513152548282009)\n",
      "Ttest_indResult(statistic=-1.2294983200320162, pvalue=0.22513687945116387)\n",
      "Ttest_indResult(statistic=-1.1554250427976709, pvalue=0.25388287891386735)\n"
     ]
    }
   ],
   "source": [
    "f_md=[6,7,2,2,1,8,6,1,3,4,6,2,3,6,2,8,7,6,2,1,5,6,5,2]\n",
    "f_pd=[1,3,2,3,1,4,8,1,2,3,3,2,1,6,2,8,3,6,2,4,5,4,4,1]\n",
    "f_td=[4,4,2,2,1,8,3,9,2,4,6,3,2,2,2,5,5,6,2,1,5,6,7,4]\n",
    "f_op=[8,8,9,8,10,2,8,10,7,8,7,8,10,9,7,5,7,6,8,10,5,8,5,10]\n",
    "f_fr=[8,3,2,1,1,9,8,8,2,4,4,2,2,5,2,3,3,6,2,1,5,5,5,2]\n",
    "f_rd=[4,6,2,3,1,7,5,6,2,6,4,2,3,6,2,8,5,6,2,1,5,7,7,2]\n",
    "\n",
    "\n",
    "k_md=[6,8,2,4,4,8,5,1,3,8,5,5,7,5,3,6,7,6,2,4,5,6,4,3]\n",
    "k_pd=[2,6,2,2,9,1,7,1,2,5,3,3,2,7,2,9,4,6,2,5,5,4,4,1]\n",
    "k_td=[6,7,2,2,5,6,3,10,2,5,6,4,4,3,3,2,7,6,2,5,5,6,5,2]\n",
    "k_op=[8,3,8,6,5,2,8,10,10,6,6,7,9,8,6,7,6,6,8,10,5,5,5,4]\n",
    "k_fr=[1,8,2,3,5,7,5,10,2,7,3,3,5,4,2,5,7,7,2,4,5,6,5,5]\n",
    "k_rd=[5,7,2,2,5,7,5,7,3,8,5,2,6,7,2,6,6,6,2,4,5,9,5,3]\n",
    "\n",
    "print stats.ttest_ind(f_md,k_md)\n",
    "print stats.ttest_ind(f_pd,k_pd)\n",
    "print stats.ttest_ind(f_td,k_td)\n",
    "print stats.ttest_ind(f_op,k_op)\n",
    "print stats.ttest_ind(f_fr,k_fr)\n",
    "print stats.ttest_ind(f_rd,k_rd)\n",
    "\n",
    "\n",
    "\n",
    "\n"
   ]
  },
  {
   "cell_type": "code",
   "execution_count": 12,
   "metadata": {},
   "outputs": [
    {
     "name": "stdout",
     "output_type": "stream",
     "text": [
      "               BPS  Baseline   K-Means\n",
      "BPS      -1.000000  0.018970  0.371236\n",
      "Baseline  0.018970 -1.000000  0.020249\n",
      "K-Means   0.371236  0.020249 -1.000000\n"
     ]
    },
    {
     "data": {
      "image/png": "[encoded data removed]",
      "text/plain": [
       "<Figure size 432x288 with 2 Axes>"
      ]
     },
     "metadata": {},
     "output_type": "display_data"
    }
   ],
   "source": [
    "#SUS ANALYSIS\n",
    "\n",
    "f=[87.5,87.5,92.5,100,20,80,87.5,67.5,65,67.5,95,95,70,85,50,75,15,100,100,55,60,62.5,70,50]\n",
    "k=[45,90,87.5,75,80,90,77.5,85,37.5,65,90,90,65,70,82.5,62.5,35,100,82.5,52.5,67.5,65,55,50]\n",
    "b=[45,30,40,42.5,10,15,82.5,60,47.5,45,37.5,92.5,95,60,75,47.5,47.5,50,25,72.5,52.5,50,65,55]\n",
    "x = pd.DataFrame({\"BPS\": f, \n",
    "                  \"K-Means\": k, \n",
    "                  \"Baseline\": b})\n",
    "\n",
    "x = x.melt(var_name='groups', value_name='values')\n",
    "\n",
    "pc = sp.posthoc_wilcoxon(x, val_col='values', group_col='groups', p_adjust = 'holm')\n",
    "\n",
    "heatmap_args = {'linewidths': 0.25, 'linecolor': '0.5', 'clip_on': False, 'square': True, 'cbar_ax_bbox': [0.80, 0.35, 0.04, 0.3]}\n",
    "sp.sign_plot(pc, **heatmap_args)\n",
    "print pc\n"
   ]
  },
  {
   "cell_type": "code",
   "execution_count": 13,
   "metadata": {},
   "outputs": [
    {
     "data": {
      "text/plain": [
       "FriedmanchisquareResult(statistic=9.053763440860216, pvalue=0.010814345703067845)"
      ]
     },
     "execution_count": 13,
     "metadata": {},
     "output_type": "execute_result"
    }
   ],
   "source": [
    "a=np.array([f,k,b])\n",
    "\n",
    "friedmanchisquare(*(a[i, :] for i in range(a.shape[0])))\n"
   ]
  },
  {
   "cell_type": "code",
   "execution_count": null,
   "metadata": {},
   "outputs": [],
   "source": []
  }
 ],
 "metadata": {
  "kernelspec": {
   "display_name": "Python 2",
   "language": "python",
   "name": "python2"
  },
  "language_info": {
   "codemirror_mode": {
    "name": "ipython",
    "version": 2
   },
   "file_extension": ".py",
   "mimetype": "text/x-python",
   "name": "python",
   "nbconvert_exporter": "python",
   "pygments_lexer": "ipython2",
   "version": "2.7.15rc1"
  }
 },
 "nbformat": 4,
 "nbformat_minor": 2
}
